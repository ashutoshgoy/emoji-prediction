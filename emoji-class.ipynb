{
 "cells": [
  {
   "cell_type": "code",
   "execution_count": 2,
   "metadata": {},
   "outputs": [
    {
     "name": "stdout",
     "output_type": "stream",
     "text": [
      "Requirement already satisfied: emoji in c:\\python36\\lib\\site-packages (0.5.1)\n"
     ]
    },
    {
     "name": "stderr",
     "output_type": "stream",
     "text": [
      "You are using pip version 18.0, however version 19.0.3 is available.\n",
      "You should consider upgrading via the 'python -m pip install --upgrade pip' command.\n"
     ]
    }
   ],
   "source": [
    "!pip install emoji"
   ]
  },
  {
   "cell_type": "code",
   "execution_count": 23,
   "metadata": {},
   "outputs": [],
   "source": [
    "import numpy as np\n",
    "import pandas as pd"
   ]
  },
  {
   "cell_type": "code",
   "execution_count": 24,
   "metadata": {},
   "outputs": [],
   "source": [
    "train = pd.read_csv(r'F:\\All data\\emoji_predictor-master\\dataset\\train_emoji.csv',header=None)\n",
    "test = pd.read_csv(r'F:\\All data\\emoji_predictor-master\\dataset\\test_emoji.csv',header=None)"
   ]
  },
  {
   "cell_type": "code",
   "execution_count": 25,
   "metadata": {},
   "outputs": [
    {
     "data": {
      "text/html": [
       "<div>\n",
       "<style scoped>\n",
       "    .dataframe tbody tr th:only-of-type {\n",
       "        vertical-align: middle;\n",
       "    }\n",
       "\n",
       "    .dataframe tbody tr th {\n",
       "        vertical-align: top;\n",
       "    }\n",
       "\n",
       "    .dataframe thead th {\n",
       "        text-align: right;\n",
       "    }\n",
       "</style>\n",
       "<table border=\"1\" class=\"dataframe\">\n",
       "  <thead>\n",
       "    <tr style=\"text-align: right;\">\n",
       "      <th></th>\n",
       "      <th>0</th>\n",
       "      <th>1</th>\n",
       "      <th>2</th>\n",
       "      <th>3</th>\n",
       "    </tr>\n",
       "  </thead>\n",
       "  <tbody>\n",
       "    <tr>\n",
       "      <td>0</td>\n",
       "      <td>never talk to me again</td>\n",
       "      <td>3</td>\n",
       "      <td>NaN</td>\n",
       "      <td>NaN</td>\n",
       "    </tr>\n",
       "    <tr>\n",
       "      <td>1</td>\n",
       "      <td>I am proud of your achievements</td>\n",
       "      <td>2</td>\n",
       "      <td>NaN</td>\n",
       "      <td>NaN</td>\n",
       "    </tr>\n",
       "    <tr>\n",
       "      <td>2</td>\n",
       "      <td>It is the worst day in my life</td>\n",
       "      <td>3</td>\n",
       "      <td>NaN</td>\n",
       "      <td>NaN</td>\n",
       "    </tr>\n",
       "    <tr>\n",
       "      <td>3</td>\n",
       "      <td>Miss you so much</td>\n",
       "      <td>0</td>\n",
       "      <td>NaN</td>\n",
       "      <td>[0]</td>\n",
       "    </tr>\n",
       "    <tr>\n",
       "      <td>4</td>\n",
       "      <td>food is life</td>\n",
       "      <td>4</td>\n",
       "      <td>NaN</td>\n",
       "      <td>NaN</td>\n",
       "    </tr>\n",
       "  </tbody>\n",
       "</table>\n",
       "</div>"
      ],
      "text/plain": [
       "                                 0  1   2     3\n",
       "0           never talk to me again  3 NaN   NaN\n",
       "1  I am proud of your achievements  2 NaN   NaN\n",
       "2   It is the worst day in my life  3 NaN   NaN\n",
       "3                 Miss you so much  0 NaN   [0]\n",
       "4                     food is life  4 NaN   NaN"
      ]
     },
     "execution_count": 25,
     "metadata": {},
     "output_type": "execute_result"
    }
   ],
   "source": [
    "train.head()"
   ]
  },
  {
   "cell_type": "code",
   "execution_count": 26,
   "metadata": {},
   "outputs": [],
   "source": [
    "import emoji as emoji"
   ]
  },
  {
   "cell_type": "code",
   "execution_count": 27,
   "metadata": {},
   "outputs": [],
   "source": [
    "#emoji.EMOJI_ALIAS_UNICODE"
   ]
  },
  {
   "cell_type": "code",
   "execution_count": 28,
   "metadata": {},
   "outputs": [],
   "source": [
    "emoji_dictionary = {\"0\": \"\\u2764\\uFE0F\",    # :heart: prints a black instead of red heart depending on the font\n",
    "                    \"1\": \":baseball:\",\n",
    "                    \"2\": \":beaming_face_with_smiling_eyes:\",\n",
    "                    \"3\": \":downcast_face_with_sweat:\",\n",
    "                    \"4\": \":fork_and_knife:\",\n",
    "                   }"
   ]
  },
  {
   "cell_type": "code",
   "execution_count": 29,
   "metadata": {},
   "outputs": [
    {
     "data": {
      "text/plain": [
       "'🍴'"
      ]
     },
     "execution_count": 29,
     "metadata": {},
     "output_type": "execute_result"
    }
   ],
   "source": [
    "emoji.emojize(\":fork_and_knife:\")"
   ]
  },
  {
   "cell_type": "code",
   "execution_count": 30,
   "metadata": {},
   "outputs": [
    {
     "name": "stdout",
     "output_type": "stream",
     "text": [
      "❤️\n",
      "⚾\n",
      "😁\n",
      "😓\n",
      "🍴\n"
     ]
    }
   ],
   "source": [
    "for e in emoji_dictionary.values():\n",
    "    print(emoji.emojize(e))"
   ]
  },
  {
   "cell_type": "code",
   "execution_count": 31,
   "metadata": {},
   "outputs": [
    {
     "name": "stdout",
     "output_type": "stream",
     "text": [
      "never talk to me again 😓\n",
      "I am proud of your achievements 😁\n",
      "It is the worst day in my life 😓\n",
      "Miss you so much ❤️\n",
      "food is life 🍴\n",
      "I love you mum ❤️\n",
      "Stop saying bullshit 😓\n",
      "congratulations on your acceptance 😁\n",
      "The assignment is too long  😓\n",
      "I want to go play ⚾\n"
     ]
    }
   ],
   "source": [
    "data = train.values\n",
    "for i in range(10):\n",
    "    print(data[i][0],emoji.emojize(emoji_dictionary[str(data[i][1])]))"
   ]
  },
  {
   "cell_type": "code",
   "execution_count": 32,
   "metadata": {},
   "outputs": [],
   "source": [
    "from keras.utils import to_categorical"
   ]
  },
  {
   "cell_type": "code",
   "execution_count": 33,
   "metadata": {},
   "outputs": [
    {
     "name": "stdout",
     "output_type": "stream",
     "text": [
      "(132,)\n",
      "(56,)\n",
      "(132, 5)\n",
      "(56, 5)\n"
     ]
    }
   ],
   "source": [
    "XT = train[0]\n",
    "Xt = test[0]\n",
    "\n",
    "YT = to_categorical(train[1])\n",
    "Yt = to_categorical(test[1])\n",
    "\n",
    "\n",
    "print(XT.shape)\n",
    "print(Xt.shape)\n",
    "print(YT.shape)\n",
    "print(Yt.shape)"
   ]
  },
  {
   "cell_type": "code",
   "execution_count": 34,
   "metadata": {},
   "outputs": [],
   "source": [
    "embeddings = {}\n",
    "with open(r'F:\\All data\\glove\\glove.6B.50d.txt',encoding='utf-8') as f:\n",
    "    for line in f:\n",
    "        values = line.split()\n",
    "        word = values[0]\n",
    "        coeffs = np.asarray(values[1:],dtype='float32')\n",
    "        \n",
    "        #print(word)\n",
    "        #print(coeffs)\n",
    "        embeddings[word] = coeffs"
   ]
  },
  {
   "cell_type": "code",
   "execution_count": 35,
   "metadata": {},
   "outputs": [],
   "source": [
    "def getOutputEmbeddings(X):\n",
    "    \n",
    "    embedding_matrix_output = np.zeros((X.shape[0],10,50))\n",
    "    for ix in range(X.shape[0]):\n",
    "        X[ix] = X[ix].split()\n",
    "        for jx in range(len(X[ix])):\n",
    "            embedding_matrix_output[ix][jx] = embeddings[X[ix][jx].lower()]\n",
    "            \n",
    "    return embedding_matrix_output"
   ]
  },
  {
   "cell_type": "code",
   "execution_count": 36,
   "metadata": {},
   "outputs": [
    {
     "data": {
      "text/plain": [
       "'I am proud of your achievements'"
      ]
     },
     "execution_count": 36,
     "metadata": {},
     "output_type": "execute_result"
    }
   ],
   "source": [
    "XT[1]"
   ]
  },
  {
   "cell_type": "code",
   "execution_count": 37,
   "metadata": {},
   "outputs": [
    {
     "name": "stderr",
     "output_type": "stream",
     "text": [
      "C:\\Users\\user\\Anaconda3\\lib\\site-packages\\ipykernel_launcher.py:5: SettingWithCopyWarning: \n",
      "A value is trying to be set on a copy of a slice from a DataFrame\n",
      "\n",
      "See the caveats in the documentation: http://pandas.pydata.org/pandas-docs/stable/user_guide/indexing.html#returning-a-view-versus-a-copy\n",
      "  \"\"\"\n"
     ]
    }
   ],
   "source": [
    "emb_XT = getOutputEmbeddings(XT)\n",
    "emb_Xt = getOutputEmbeddings(Xt)"
   ]
  },
  {
   "cell_type": "code",
   "execution_count": 38,
   "metadata": {},
   "outputs": [
    {
     "name": "stdout",
     "output_type": "stream",
     "text": [
      "(132, 10, 50)\n",
      "(56, 10, 50)\n"
     ]
    }
   ],
   "source": [
    "print(emb_XT.shape)\n",
    "print(emb_Xt.shape)\n"
   ]
  },
  {
   "cell_type": "code",
   "execution_count": 39,
   "metadata": {},
   "outputs": [],
   "source": [
    "from keras.layers import LSTM, Dropout, Dense, Activation\n",
    "from keras.models import Sequential"
   ]
  },
  {
   "cell_type": "code",
   "execution_count": 40,
   "metadata": {},
   "outputs": [
    {
     "name": "stdout",
     "output_type": "stream",
     "text": [
      "Model: \"sequential_2\"\n",
      "_________________________________________________________________\n",
      "Layer (type)                 Output Shape              Param #   \n",
      "=================================================================\n",
      "lstm_3 (LSTM)                (None, 10, 64)            29440     \n",
      "_________________________________________________________________\n",
      "dropout_3 (Dropout)          (None, 10, 64)            0         \n",
      "_________________________________________________________________\n",
      "lstm_4 (LSTM)                (None, 64)                33024     \n",
      "_________________________________________________________________\n",
      "dropout_4 (Dropout)          (None, 64)                0         \n",
      "_________________________________________________________________\n",
      "dense_2 (Dense)              (None, 5)                 325       \n",
      "_________________________________________________________________\n",
      "activation_2 (Activation)    (None, 5)                 0         \n",
      "=================================================================\n",
      "Total params: 62,789\n",
      "Trainable params: 62,789\n",
      "Non-trainable params: 0\n",
      "_________________________________________________________________\n"
     ]
    }
   ],
   "source": [
    "model = Sequential()\n",
    "model.add(LSTM(64,input_shape=(10,50),return_sequences=True))\n",
    "model.add(Dropout(0.4))\n",
    "model.add(LSTM(64,input_shape=(10,50)))\n",
    "model.add(Dropout(0.3))\n",
    "model.add(Dense(5))\n",
    "model.add(Activation('softmax'))\n",
    "model.summary()"
   ]
  },
  {
   "cell_type": "code",
   "execution_count": 41,
   "metadata": {},
   "outputs": [
    {
     "name": "stdout",
     "output_type": "stream",
     "text": [
      "Train on 118 samples, validate on 14 samples\n",
      "Epoch 1/40\n",
      "118/118 [==============================] - 1s 11ms/step - loss: 1.5975 - acc: 0.1780 - val_loss: 1.6073 - val_acc: 0.2143\n",
      "Epoch 2/40\n",
      "118/118 [==============================] - 0s 1ms/step - loss: 1.5453 - acc: 0.3051 - val_loss: 1.6099 - val_acc: 0.2857\n",
      "Epoch 3/40\n",
      "118/118 [==============================] - 0s 1ms/step - loss: 1.4907 - acc: 0.4153 - val_loss: 1.6213 - val_acc: 0.2857\n",
      "Epoch 4/40\n",
      "118/118 [==============================] - 0s 1ms/step - loss: 1.4515 - acc: 0.3983 - val_loss: 1.5962 - val_acc: 0.2143\n",
      "Epoch 5/40\n",
      "118/118 [==============================] - 0s 1ms/step - loss: 1.3952 - acc: 0.4576 - val_loss: 1.5393 - val_acc: 0.2857\n",
      "Epoch 6/40\n",
      "118/118 [==============================] - 0s 1ms/step - loss: 1.3110 - acc: 0.5000 - val_loss: 1.4871 - val_acc: 0.2143\n",
      "Epoch 7/40\n",
      "118/118 [==============================] - 0s 1ms/step - loss: 1.2472 - acc: 0.5339 - val_loss: 1.3594 - val_acc: 0.3571\n",
      "Epoch 8/40\n",
      "118/118 [==============================] - 0s 1ms/step - loss: 1.1127 - acc: 0.6525 - val_loss: 1.2511 - val_acc: 0.5714\n",
      "Epoch 9/40\n",
      "118/118 [==============================] - 0s 1ms/step - loss: 1.0089 - acc: 0.6780 - val_loss: 1.2798 - val_acc: 0.5000\n",
      "Epoch 10/40\n",
      "118/118 [==============================] - 0s 1ms/step - loss: 0.9116 - acc: 0.6864 - val_loss: 1.2571 - val_acc: 0.5000\n",
      "Epoch 11/40\n",
      "118/118 [==============================] - 0s 1ms/step - loss: 0.8111 - acc: 0.7203 - val_loss: 1.1559 - val_acc: 0.5714\n",
      "Epoch 12/40\n",
      "118/118 [==============================] - 0s 1ms/step - loss: 0.7132 - acc: 0.7627 - val_loss: 1.2788 - val_acc: 0.5000\n",
      "Epoch 13/40\n",
      "118/118 [==============================] - 0s 1ms/step - loss: 0.5957 - acc: 0.8220 - val_loss: 1.2490 - val_acc: 0.6429\n",
      "Epoch 14/40\n",
      "118/118 [==============================] - 0s 1ms/step - loss: 0.5783 - acc: 0.7881 - val_loss: 1.2147 - val_acc: 0.5714\n",
      "Epoch 15/40\n",
      "118/118 [==============================] - 0s 1ms/step - loss: 0.4681 - acc: 0.8644 - val_loss: 1.1045 - val_acc: 0.6429\n",
      "Epoch 16/40\n",
      "118/118 [==============================] - 0s 2ms/step - loss: 0.4886 - acc: 0.8305 - val_loss: 1.1875 - val_acc: 0.5714\n",
      "Epoch 17/40\n",
      "118/118 [==============================] - 0s 1ms/step - loss: 0.3642 - acc: 0.8898 - val_loss: 1.0297 - val_acc: 0.6429\n",
      "Epoch 18/40\n",
      "118/118 [==============================] - 0s 1ms/step - loss: 0.3744 - acc: 0.8644 - val_loss: 1.3495 - val_acc: 0.5714\n",
      "Epoch 19/40\n",
      "118/118 [==============================] - 0s 1ms/step - loss: 0.3369 - acc: 0.8729 - val_loss: 0.8642 - val_acc: 0.7143\n",
      "Epoch 20/40\n",
      "118/118 [==============================] - 0s 1ms/step - loss: 0.3161 - acc: 0.8729 - val_loss: 1.2135 - val_acc: 0.6429\n",
      "Epoch 21/40\n",
      "118/118 [==============================] - 0s 1ms/step - loss: 0.2992 - acc: 0.9068 - val_loss: 1.3431 - val_acc: 0.7143\n",
      "Epoch 22/40\n",
      "118/118 [==============================] - 0s 1ms/step - loss: 0.3958 - acc: 0.8729 - val_loss: 1.0228 - val_acc: 0.6429\n",
      "Epoch 23/40\n",
      "118/118 [==============================] - 0s 2ms/step - loss: 0.3059 - acc: 0.8729 - val_loss: 1.3751 - val_acc: 0.5714\n",
      "Epoch 24/40\n",
      "118/118 [==============================] - 0s 1ms/step - loss: 0.2666 - acc: 0.9068 - val_loss: 1.1116 - val_acc: 0.7143\n",
      "Epoch 25/40\n",
      "118/118 [==============================] - 0s 1ms/step - loss: 0.2746 - acc: 0.9153 - val_loss: 1.1742 - val_acc: 0.7143\n",
      "Epoch 26/40\n",
      "118/118 [==============================] - 0s 1ms/step - loss: 0.2094 - acc: 0.9322 - val_loss: 1.0996 - val_acc: 0.6429\n",
      "Epoch 27/40\n",
      "118/118 [==============================] - 0s 1ms/step - loss: 0.1520 - acc: 0.9492 - val_loss: 1.1200 - val_acc: 0.6429\n",
      "Epoch 28/40\n",
      "118/118 [==============================] - 0s 1ms/step - loss: 0.1787 - acc: 0.9322 - val_loss: 1.1521 - val_acc: 0.6429\n",
      "Epoch 29/40\n",
      "118/118 [==============================] - 0s 2ms/step - loss: 0.1368 - acc: 0.9831 - val_loss: 1.2185 - val_acc: 0.6429\n",
      "Epoch 30/40\n",
      "118/118 [==============================] - 0s 1ms/step - loss: 0.1252 - acc: 0.9576 - val_loss: 1.3552 - val_acc: 0.5714\n",
      "Epoch 31/40\n",
      "118/118 [==============================] - 0s 2ms/step - loss: 0.1374 - acc: 0.9492 - val_loss: 1.0883 - val_acc: 0.7143\n",
      "Epoch 32/40\n",
      "118/118 [==============================] - 0s 1ms/step - loss: 0.0963 - acc: 0.9746 - val_loss: 1.0721 - val_acc: 0.7143\n",
      "Epoch 33/40\n",
      "118/118 [==============================] - 0s 1ms/step - loss: 0.0937 - acc: 0.9576 - val_loss: 1.3945 - val_acc: 0.6429\n",
      "Epoch 34/40\n",
      "118/118 [==============================] - 1s 5ms/step - loss: 0.0941 - acc: 0.9915 - val_loss: 1.4158 - val_acc: 0.7143\n",
      "Epoch 35/40\n",
      "118/118 [==============================] - 0s 3ms/step - loss: 0.0801 - acc: 0.9746 - val_loss: 1.2234 - val_acc: 0.7143\n",
      "Epoch 36/40\n",
      "118/118 [==============================] - 0s 2ms/step - loss: 0.0650 - acc: 0.9915 - val_loss: 1.5728 - val_acc: 0.6429\n",
      "Epoch 37/40\n",
      "118/118 [==============================] - 0s 1ms/step - loss: 0.0897 - acc: 0.9831 - val_loss: 1.5791 - val_acc: 0.6429\n",
      "Epoch 38/40\n",
      "118/118 [==============================] - 0s 2ms/step - loss: 0.0692 - acc: 0.9831 - val_loss: 1.3299 - val_acc: 0.7143\n",
      "Epoch 39/40\n",
      "118/118 [==============================] - 0s 1ms/step - loss: 0.0672 - acc: 0.9915 - val_loss: 1.6861 - val_acc: 0.5714\n",
      "Epoch 40/40\n",
      "118/118 [==============================] - 0s 2ms/step - loss: 0.0689 - acc: 0.9915 - val_loss: 1.9526 - val_acc: 0.5000\n"
     ]
    },
    {
     "data": {
      "text/plain": [
       "<keras.callbacks.callbacks.History at 0x16227039c08>"
      ]
     },
     "execution_count": 41,
     "metadata": {},
     "output_type": "execute_result"
    }
   ],
   "source": [
    "model.compile(optimizer='adam',loss='categorical_crossentropy',metrics=['acc'])\n",
    "model.fit(emb_XT,YT,batch_size=32,epochs=40,shuffle=True,validation_split=0.1)"
   ]
  },
  {
   "cell_type": "code",
   "execution_count": null,
   "metadata": {},
   "outputs": [],
   "source": []
  },
  {
   "cell_type": "code",
   "execution_count": null,
   "metadata": {},
   "outputs": [],
   "source": []
  },
  {
   "cell_type": "code",
   "execution_count": 42,
   "metadata": {},
   "outputs": [
    {
     "name": "stdout",
     "output_type": "stream",
     "text": [
      "56/56 [==============================] - 0s 410us/step\n"
     ]
    },
    {
     "data": {
      "text/plain": [
       "[1.6216818945748466, 0.6428571343421936]"
      ]
     },
     "execution_count": 42,
     "metadata": {},
     "output_type": "execute_result"
    }
   ],
   "source": [
    "model.evaluate(emb_Xt,Yt)"
   ]
  },
  {
   "cell_type": "code",
   "execution_count": 43,
   "metadata": {},
   "outputs": [],
   "source": [
    "pred = model.predict_classes(emb_Xt)"
   ]
  },
  {
   "cell_type": "code",
   "execution_count": 44,
   "metadata": {},
   "outputs": [
    {
     "name": "stdout",
     "output_type": "stream",
     "text": [
      "I want to eat\n",
      "🍴\n",
      "🍴\n",
      "he did not answer\n",
      "😓\n",
      "😓\n",
      "he got a raise\n",
      "😁\n",
      "😁\n",
      "she got me a present\n",
      "❤️\n",
      "😁\n",
      "ha ha ha it was so funny\n",
      "😁\n",
      "😁\n",
      "he is a good friend\n",
      "❤️\n",
      "😁\n",
      "I am upset\n",
      "❤️\n",
      "😓\n",
      "We had such a lovely dinner tonight\n",
      "❤️\n",
      "😁\n",
      "where is the food\n",
      "🍴\n",
      "🍴\n",
      "Stop making this joke ha ha ha\n",
      "😁\n",
      "😁\n",
      "where is the ball\n",
      "⚾\n",
      "⚾\n",
      "work is hard\n",
      "😓\n",
      "😁\n",
      "This girl is messing with me\n",
      "😓\n",
      "❤️\n",
      "are you serious ha ha\n",
      "😁\n",
      "😓\n",
      "Let us go play baseball\n",
      "⚾\n",
      "⚾\n",
      "This stupid grader is not working\n",
      "😓\n",
      "😓\n",
      "work is horrible\n",
      "😓\n",
      "😓\n",
      "Congratulation for having a baby\n",
      "😁\n",
      "😁\n",
      "stop messing around\n",
      "😓\n",
      "😓\n",
      "any suggestions for dinner\n",
      "🍴\n",
      "😁\n",
      "I love taking breaks\n",
      "❤️\n",
      "😁\n",
      "you brighten my day\n",
      "😁\n",
      "😓\n",
      "I boiled rice\n",
      "🍴\n",
      "🍴\n",
      "she is a bully\n",
      "😓\n",
      "😁\n",
      "Why are you feeling bad\n",
      "😓\n",
      "😓\n",
      "I am upset\n",
      "😓\n",
      "😓\n",
      "I worked during my birthday\n",
      "😓\n",
      "😁\n",
      "My grandmother is the love of my life\n",
      "❤️\n",
      "❤️\n",
      "enjoy your break\n",
      "😁\n",
      "😓\n",
      "valentine day is near\n",
      "❤️\n",
      "😁\n"
     ]
    }
   ],
   "source": [
    "for i in range(30):\n",
    "    print(' '.join(Xt[i]))\n",
    "    print(emoji.emojize(emoji_dictionary[str(np.argmax(Yt[i]))]))\n",
    "    print(emoji.emojize(emoji_dictionary[str(pred[i])]))"
   ]
  },
  {
   "cell_type": "code",
   "execution_count": 45,
   "metadata": {},
   "outputs": [],
   "source": [
    "with open(\"model.json\", \"w\") as file:\n",
    "    file.write(model.to_json())\n",
    "model.save_weights(\"model.h5\")"
   ]
  },
  {
   "cell_type": "code",
   "execution_count": null,
   "metadata": {},
   "outputs": [],
   "source": []
  },
  {
   "cell_type": "code",
   "execution_count": 46,
   "metadata": {},
   "outputs": [],
   "source": [
    "from keras.models import model_from_json"
   ]
  },
  {
   "cell_type": "code",
   "execution_count": 47,
   "metadata": {},
   "outputs": [],
   "source": [
    "with open(\"model.json\", \"r\") as file:\n",
    "    model = model_from_json(file.read())\n",
    "model.load_weights(\"model.h5\")"
   ]
  },
  {
   "cell_type": "code",
   "execution_count": null,
   "metadata": {},
   "outputs": [],
   "source": []
  },
  {
   "cell_type": "code",
   "execution_count": 48,
   "metadata": {},
   "outputs": [],
   "source": [
    "test_str = \"Hello how are you\"\n",
    "X = pd.Series([test_str])"
   ]
  },
  {
   "cell_type": "code",
   "execution_count": 49,
   "metadata": {},
   "outputs": [],
   "source": [
    "emb_X = getOutputEmbeddings(X)"
   ]
  },
  {
   "cell_type": "code",
   "execution_count": 50,
   "metadata": {},
   "outputs": [],
   "source": [
    "p = model.predict_classes(emb_X)"
   ]
  },
  {
   "cell_type": "code",
   "execution_count": 51,
   "metadata": {},
   "outputs": [
    {
     "name": "stdout",
     "output_type": "stream",
     "text": [
      "Hello how are you\n",
      "😁\n"
     ]
    }
   ],
   "source": [
    "print(' '.join(X[0]))\n",
    "print(emoji.emojize(emoji_dictionary[str(p[0])]))"
   ]
  },
  {
   "cell_type": "code",
   "execution_count": null,
   "metadata": {},
   "outputs": [],
   "source": []
  },
  {
   "cell_type": "code",
   "execution_count": null,
   "metadata": {},
   "outputs": [],
   "source": []
  },
  {
   "cell_type": "code",
   "execution_count": null,
   "metadata": {},
   "outputs": [],
   "source": []
  },
  {
   "cell_type": "code",
   "execution_count": null,
   "metadata": {},
   "outputs": [],
   "source": []
  }
 ],
 "metadata": {
  "kernelspec": {
   "display_name": "Python 3",
   "language": "python",
   "name": "python3"
  },
  "language_info": {
   "codemirror_mode": {
    "name": "ipython",
    "version": 3
   },
   "file_extension": ".py",
   "mimetype": "text/x-python",
   "name": "python",
   "nbconvert_exporter": "python",
   "pygments_lexer": "ipython3",
   "version": "3.7.4"
  }
 },
 "nbformat": 4,
 "nbformat_minor": 2
}
